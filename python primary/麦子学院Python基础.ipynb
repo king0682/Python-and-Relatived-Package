{
 "cells": [
  {
   "cell_type": "code",
   "execution_count": null,
   "metadata": {},
   "outputs": [],
   "source": [
    "设置utf-8编码，不过Mac默认编码为utf-8，应该不需要\n",
    "#-*- coding: utf-8 -*-"
   ]
  },
  {
   "cell_type": "markdown",
   "metadata": {},
   "source": [
    "## 展示内容"
   ]
  },
  {
   "cell_type": "markdown",
   "metadata": {},
   "source": [
    "a) 打印当前路径"
   ]
  },
  {
   "cell_type": "code",
   "execution_count": 4,
   "metadata": {},
   "outputs": [
    {
     "name": "stdout",
     "output_type": "stream",
     "text": [
      "/Users/ye/文件库/2.学习视频类/1.python基础/2.(基础1)Python程序入门视频\n"
     ]
    }
   ],
   "source": [
    "import os\n",
    "print(os.getcwd())"
   ]
  },
  {
   "cell_type": "markdown",
   "metadata": {},
   "source": [
    "b) 编辑器转换成utf-8编码，print( )中文编码"
   ]
  },
  {
   "cell_type": "markdown",
   "metadata": {},
   "source": [
    "c) 快速多行注释：`command + /`"
   ]
  },
  {
   "cell_type": "code",
   "execution_count": 5,
   "metadata": {},
   "outputs": [],
   "source": [
    "# -*- coding: utf-8 -*-"
   ]
  },
  {
   "cell_type": "markdown",
   "metadata": {},
   "source": [
    "## 数据类型\n",
    "数据类型包括以下几种：\n",
    "numerics, sequences, mappings, classes, instances, and exceptions"
   ]
  },
  {
   "cell_type": "markdown",
   "metadata": {},
   "source": [
    "### 数值型\n",
    "其中有int (包含boolean), float, complex  \n",
    "具体运算以及法则参见：https://docs.python.org/3/library/stdtypes.html#numeric-types-int-float-complex\n",
    "\n",
    "#### 整数int\n",
    "其中boolean包含在int中\n",
    "#### 浮点型float\n",
    "float对应C语言的double"
   ]
  },
  {
   "cell_type": "code",
   "execution_count": 22,
   "metadata": {},
   "outputs": [
    {
     "data": {
      "text/plain": [
       "sys.float_info(max=1.7976931348623157e+308, max_exp=1024, max_10_exp=308, min=2.2250738585072014e-308, min_exp=-1021, min_10_exp=-307, dig=15, mant_dig=53, epsilon=2.220446049250313e-16, radix=2, rounds=1)"
      ]
     },
     "execution_count": 22,
     "metadata": {},
     "output_type": "execute_result"
    }
   ],
   "source": [
    "# 查看float的取值范围\n",
    "import sys\n",
    "sys.float_info"
   ]
  },
  {
   "cell_type": "markdown",
   "metadata": {},
   "source": [
    "#### 复数complex\n",
    "real(实部) & imaginary(虚部）,用z.real 和 z.imag来取两部分 \n",
    "\n",
    "（其中实部虚部都属于float类型的变量）"
   ]
  },
  {
   "cell_type": "code",
   "execution_count": 27,
   "metadata": {},
   "outputs": [
    {
     "name": "stdout",
     "output_type": "stream",
     "text": [
      "a is type <class 'int'>\n",
      "c is type <class 'float'>\n",
      "f is type <class 'complex'>\n",
      "7\n",
      "1.3333333333333333\n",
      "1\n",
      "(5.66+8j)\n",
      "(8.66+12j)\n",
      "e's real part is:  5.66\n",
      "e's imaginary part is:  8.0\n"
     ]
    }
   ],
   "source": [
    "#实战\n",
    "a = 3\n",
    "b = 4\n",
    "\n",
    "c = 5.66\n",
    "d = 8.0\n",
    "\n",
    "e = complex(c, d)\n",
    "f = complex(float(a), float(b))\n",
    "\n",
    "print (\"a is type\" , type(a))\n",
    "print (\"c is type\" , type(c))\n",
    "print (\"f is type\" , type(f))\n",
    "\n",
    "print(a + b)\n",
    "print (b / a)\n",
    "print (b // a) #取整除\n",
    "print (e)\n",
    "print (e + f)\n",
    "print (\"e's real part is: \" , e.real)\n",
    "print (\"e's imaginary part is: \" , e.imag)"
   ]
  },
  {
   "cell_type": "markdown",
   "metadata": {},
   "source": [
    "### 字符串\n",
    "Note:\n",
    "1.字符串一旦被创建是不可变的immutable"
   ]
  },
  {
   "cell_type": "markdown",
   "metadata": {},
   "source": [
    "#### 引号的说明\n",
    "打印单行可用'aaa'或者\"aaa\""
   ]
  },
  {
   "cell_type": "code",
   "execution_count": null,
   "metadata": {},
   "outputs": [],
   "source": [
    "print('aaa')\n",
    "print(\"aaa\")"
   ]
  },
  {
   "cell_type": "markdown",
   "metadata": {},
   "source": [
    "打印多行可用'''"
   ]
  },
  {
   "cell_type": "code",
   "execution_count": 6,
   "metadata": {},
   "outputs": [
    {
     "name": "stdout",
     "output_type": "stream",
     "text": [
      "\n",
      "第一行\n",
      "第二行\n",
      "第三行\n",
      "\n"
     ]
    }
   ],
   "source": [
    "print(\n",
    "'''\n",
    "第一行\n",
    "第二行\n",
    "第三行\n",
    "'''\n",
    ")"
   ]
  },
  {
   "cell_type": "markdown",
   "metadata": {},
   "source": [
    "#### Format字符串\n",
    "多个变量连接在一起，打印输出  \n",
    "方法一："
   ]
  },
  {
   "cell_type": "code",
   "execution_count": 32,
   "metadata": {},
   "outputs": [
    {
     "name": "stdout",
     "output_type": "stream",
     "text": [
      "Tom was 3 years old.\n",
      "3 was Tom years old.\n",
      "Tom was 3 years old.\n"
     ]
    }
   ],
   "source": [
    "age = 3\n",
    "name = \"Tom\"\n",
    "\n",
    "#方法一\n",
    "print(\"{0} was {1} years old.\".format(name, age))\n",
    "print(\"{1} was {0} years old.\".format(name, age))\n",
    "\n",
    "#方法二\n",
    "print(name + \" was \" + str(age) + \" years old.\") "
   ]
  },
  {
   "cell_type": "markdown",
   "metadata": {},
   "source": [
    "### 变量Variable"
   ]
  },
  {
   "cell_type": "code",
   "execution_count": null,
   "metadata": {},
   "outputs": [],
   "source": []
  },
  {
   "cell_type": "markdown",
   "metadata": {},
   "source": [
    "### 注释\n",
    "单行注释用 `#` \n",
    "\n",
    "多行注释用   \n",
    "```\n",
    "'''\n",
    "print(\"hello\")\n",
    "print(\"this is my first line\")\n",
    "''' \n",
    "```"
   ]
  },
  {
   "cell_type": "markdown",
   "metadata": {},
   "source": [
    "## 数据结构"
   ]
  },
  {
   "cell_type": "markdown",
   "metadata": {},
   "source": [
    "### 列表List\n",
    "List是可以更改的"
   ]
  },
  {
   "cell_type": "markdown",
   "metadata": {},
   "source": [
    "#### 创建一个List"
   ]
  },
  {
   "cell_type": "code",
   "execution_count": 72,
   "metadata": {
    "scrolled": true
   },
   "outputs": [
    {
     "name": "stdout",
     "output_type": "stream",
     "text": [
      "number_list:[1, 3, 5, 7, 9]\n",
      "[456, 'abc', 786]\n"
     ]
    }
   ],
   "source": [
    "number_list = [1, 3, 5, 7, 9]\n",
    "print(\"number_list:\" + str(number_list))"
   ]
  },
  {
   "cell_type": "markdown",
   "metadata": {},
   "source": [
    "* 混合元素列表"
   ]
  },
  {
   "cell_type": "code",
   "execution_count": 42,
   "metadata": {},
   "outputs": [
    {
     "name": "stdout",
     "output_type": "stream",
     "text": [
      "mixed_list:['python', 'java', 3, 12]\n"
     ]
    }
   ],
   "source": [
    "mixed_list = ['python', 'java', 3, 12]\n",
    "print(\"mixed_list:\" + str(mixed_list))"
   ]
  },
  {
   "cell_type": "markdown",
   "metadata": {},
   "source": [
    "#### 访问List中的值"
   ]
  },
  {
   "cell_type": "code",
   "execution_count": 34,
   "metadata": {},
   "outputs": [
    {
     "name": "stdout",
     "output_type": "stream",
     "text": [
      "second_num:3, fourth_mix:12\n"
     ]
    }
   ],
   "source": [
    "second_num = number_list[1]\n",
    "fourth_mix = mixed_list[3]\n",
    "print(\"second_num:{0}, fourth_mix:{1}\".format(second_num, fourth_mix))"
   ]
  },
  {
   "cell_type": "markdown",
   "metadata": {},
   "source": [
    "#### 修改List中的值"
   ]
  },
  {
   "cell_type": "code",
   "execution_count": 35,
   "metadata": {
    "scrolled": true
   },
   "outputs": [
    {
     "name": "stdout",
     "output_type": "stream",
     "text": [
      "number_list before:[1, 3, 5, 7, 9]\n",
      "number_list after:[1, 30, 5, 7, 9]\n"
     ]
    }
   ],
   "source": [
    "print(\"number_list before:\" + str(number_list))\n",
    "number_list[1] = 30\n",
    "print(\"number_list after:\" + str(number_list))"
   ]
  },
  {
   "cell_type": "markdown",
   "metadata": {},
   "source": [
    "#### 删除List中的值\n",
    "注意：`del mixed_list`就是将整个mixed_list删除，而不是删除某个元素"
   ]
  },
  {
   "cell_type": "code",
   "execution_count": 43,
   "metadata": {
    "scrolled": true
   },
   "outputs": [
    {
     "name": "stdout",
     "output_type": "stream",
     "text": [
      "mixed_list before delete:['python', 'java', 3, 12]\n",
      "mixed_list before delete:['python', 'java', 12]\n"
     ]
    }
   ],
   "source": [
    "print(\"mixed_list before delete:\" + str(mixed_list))\n",
    "del mixed_list[2]\n",
    "print(\"mixed_list before delete:\" + str(mixed_list))"
   ]
  },
  {
   "cell_type": "markdown",
   "metadata": {},
   "source": [
    "#### List常用属性\n",
    "##### 打印List的长度"
   ]
  },
  {
   "cell_type": "code",
   "execution_count": 45,
   "metadata": {},
   "outputs": [
    {
     "name": "stdout",
     "output_type": "stream",
     "text": [
      "5\n",
      "3\n"
     ]
    }
   ],
   "source": [
    "print(len(number_list))\n",
    "print(len(mixed_list))"
   ]
  },
  {
   "cell_type": "markdown",
   "metadata": {},
   "source": [
    "##### 返回List的最值"
   ]
  },
  {
   "cell_type": "code",
   "execution_count": 63,
   "metadata": {},
   "outputs": [
    {
     "name": "stdout",
     "output_type": "stream",
     "text": [
      "9\n",
      "1\n"
     ]
    }
   ],
   "source": [
    "print(max(number_list))\n",
    "print(min(number_list))"
   ]
  },
  {
   "cell_type": "markdown",
   "metadata": {},
   "source": [
    "#### 重复一个List"
   ]
  },
  {
   "cell_type": "code",
   "execution_count": 48,
   "metadata": {},
   "outputs": [
    {
     "name": "stdout",
     "output_type": "stream",
     "text": [
      "['hello', 'hello', 'hello', 'hello']\n",
      "['python', 'java', 12, 'python', 'java', 12, 'python', 'java', 12]\n"
     ]
    }
   ],
   "source": [
    "print([\"hello\"] * 4)\n",
    "print(mixed_list * 3)"
   ]
  },
  {
   "cell_type": "markdown",
   "metadata": {},
   "source": [
    "#### 判断某个元素是否在List中"
   ]
  },
  {
   "cell_type": "code",
   "execution_count": 50,
   "metadata": {},
   "outputs": [
    {
     "name": "stdout",
     "output_type": "stream",
     "text": [
      "False\n",
      "True\n"
     ]
    }
   ],
   "source": [
    "print(3 in mixed_list)\n",
    "print(\"java\" in mixed_list)"
   ]
  },
  {
   "cell_type": "markdown",
   "metadata": {},
   "source": [
    "#### List的截取"
   ]
  },
  {
   "cell_type": "code",
   "execution_count": 57,
   "metadata": {},
   "outputs": [
    {
     "name": "stdout",
     "output_type": "stream",
     "text": [
      "b\n",
      "['a', 'b', 'c']\n",
      "['b', 'c', 'd']\n"
     ]
    }
   ],
   "source": [
    "abcd_list = ['a', 'b', 'c', 'd']\n",
    "print(abcd_list[1])\n",
    "print(abcd_list[:-1]) #截止到最后一个之前\n",
    "print(abcd_list[1:]) #从第一个之后开始数，到结尾"
   ]
  },
  {
   "cell_type": "markdown",
   "metadata": {},
   "source": [
    "#### Tuple转为List"
   ]
  },
  {
   "cell_type": "code",
   "execution_count": 43,
   "metadata": {},
   "outputs": [
    {
     "name": "stdout",
     "output_type": "stream",
     "text": [
      "(1, 2, 3)\n",
      "<class 'tuple'>\n",
      "[1, 2, 3]\n",
      "<class 'list'>\n",
      "(1, 2, 3)\n",
      "<class 'tuple'>\n"
     ]
    }
   ],
   "source": [
    "# 定义一个Tuple\n",
    "seq = (1,2,3)\n",
    "print(seq)\n",
    "print(type(seq))\n",
    "\n",
    "# 将Tuple转换为List\n",
    "seq = list(seq)\n",
    "print(seq)\n",
    "print(type(seq))\n",
    "\n",
    "# 将List转换为Tuple\n",
    "tuple1 = tuple(seq)\n",
    "print(tuple1)\n",
    "print(type(tuple1))"
   ]
  },
  {
   "cell_type": "markdown",
   "metadata": {},
   "source": [
    "#### 组合两个List\n",
    "注意与append( ),extend( )方法的区别，相加会增加内存，当两个list较大时，应该用append( )方法增加新元素"
   ]
  },
  {
   "cell_type": "code",
   "execution_count": 91,
   "metadata": {},
   "outputs": [
    {
     "name": "stdout",
     "output_type": "stream",
     "text": [
      "[1, 3, 5, 7, 9, 'python', 'java', 12]\n",
      "[111, 222, 333, 786]\n"
     ]
    }
   ],
   "source": [
    "combined_list = number_list + mixed_list\n",
    "print(combined_list)\n",
    "\n",
    "# 加入单个元素\n",
    "list_n = [111,222,333]\n",
    "print(list_n + [786])"
   ]
  },
  {
   "cell_type": "markdown",
   "metadata": {},
   "source": [
    "#### List元组本身的操作"
   ]
  },
  {
   "cell_type": "markdown",
   "metadata": {},
   "source": [
    "##### List的append( )用法\n",
    "\n",
    "末尾只可以追加一个参数,参数可为任何数据结构类型，且追加后依旧保持原结构类型"
   ]
  },
  {
   "cell_type": "code",
   "execution_count": 93,
   "metadata": {},
   "outputs": [
    {
     "name": "stdout",
     "output_type": "stream",
     "text": [
      "[456, 'abc', [123, 'xyz']]\n"
     ]
    }
   ],
   "source": [
    "list1, list2 = [123, 'xyz'], [456, 'abc']\n",
    "list2.append(list1)\n",
    "print(list2)"
   ]
  },
  {
   "cell_type": "markdown",
   "metadata": {},
   "source": [
    "##### List的extend( )用法\n",
    "末尾只可以追加一个参数,参数可为任何数据结构类型，且追加后类型融入原数据结构类型"
   ]
  },
  {
   "cell_type": "code",
   "execution_count": 106,
   "metadata": {},
   "outputs": [
    {
     "name": "stdout",
     "output_type": "stream",
     "text": [
      "[456, 'abc', 123, 'xyz']\n",
      "[123, 'xyz', 7, 8, 9]\n"
     ]
    }
   ],
   "source": [
    "list1, list2, seq1 = [123, 'xyz'], [456, 'abc'], (7,8,9)\n",
    "list2.extend(list1)\n",
    "list1.extend(seq1)\n",
    "print(list2)\n",
    "print(list1)"
   ]
  },
  {
   "cell_type": "markdown",
   "metadata": {},
   "source": [
    "##### 统计某个元素在List中出现的次数count( )"
   ]
  },
  {
   "cell_type": "code",
   "execution_count": 99,
   "metadata": {},
   "outputs": [
    {
     "name": "stdout",
     "output_type": "stream",
     "text": [
      "1\n",
      "3\n"
     ]
    }
   ],
   "source": [
    "list_count = [1,1,2,3,4,4,4,'a','aa']\n",
    "print(list_count.count('a'))\n",
    "print(list_count.count(4))"
   ]
  },
  {
   "cell_type": "markdown",
   "metadata": {},
   "source": [
    "##### 找出List中某值第一次出现的位置index( )"
   ]
  },
  {
   "cell_type": "code",
   "execution_count": 108,
   "metadata": {},
   "outputs": [
    {
     "data": {
      "text/plain": [
       "7"
      ]
     },
     "execution_count": 108,
     "metadata": {},
     "output_type": "execute_result"
    }
   ],
   "source": [
    "list_index = [1,1,2,3,4,4,4,'a','aa']\n",
    "list_index.index('a')"
   ]
  },
  {
   "cell_type": "markdown",
   "metadata": {},
   "source": [
    "##### 在某个位置插入元素 insert( )"
   ]
  },
  {
   "cell_type": "code",
   "execution_count": 117,
   "metadata": {
    "scrolled": false
   },
   "outputs": [
    {
     "name": "stdout",
     "output_type": "stream",
     "text": [
      "[1, 'pig', 1, 2, 3, 4, 4, 4, 'a', 'aa']\n",
      "[1, 'pig', 1, 2, 3, 4, 4, 4, 'a', 'aa', 'happy']\n",
      "11\n"
     ]
    }
   ],
   "source": [
    "list_insert = [1,1,2,3,4,4,4,'a','aa']\n",
    "# 想在第二个位置插入pig\n",
    "list_insert.insert(1,'pig')\n",
    "print(list_insert)\n",
    "# 想在第13个位置插入happy（总共10个元素，就放到最后,但是仍然只有11个元素，不会平白弄出第13个位置）\n",
    "list_insert.insert(12,'happy')\n",
    "print(list_insert)\n",
    "print(len(list_insert))"
   ]
  },
  {
   "cell_type": "markdown",
   "metadata": {},
   "source": [
    "##### 删除List中的某个元素\n",
    "###### a) 按照index删除 ——pop( )\n",
    "不赋值默认删除最后一个，而且操作会返回删除元素的值"
   ]
  },
  {
   "cell_type": "code",
   "execution_count": 129,
   "metadata": {
    "scrolled": true
   },
   "outputs": [
    {
     "name": "stdout",
     "output_type": "stream",
     "text": [
      "当前删除项：aa\n",
      "当前list为：[1, 1, 2, 3, 4, 4, 4, 'a']\n",
      "当前删除项：4\n",
      "当前list为：[1, 1, 2, 3, 4, 4, 'a']\n"
     ]
    }
   ],
   "source": [
    "list_pop = [1,1,2,3,4,4,4,'a','aa']\n",
    "# 删除最后一项\n",
    "list_pop_default = list_pop.pop()\n",
    "print(\"当前删除项：\" + list_pop_default)\n",
    "print(\"当前list为：\" + str(list_pop))\n",
    "\n",
    "# 删除第五项\n",
    "list_pop_five = list_pop.pop(4)\n",
    "print(\"当前删除项：\" + str(list_pop_five))\n",
    "print(\"当前list为：\" + str(list_pop))"
   ]
  },
  {
   "cell_type": "markdown",
   "metadata": {},
   "source": [
    "###### b) 按照content删除——remove( )\n",
    "会移除List所匹配到内容的第一个值"
   ]
  },
  {
   "cell_type": "code",
   "execution_count": 132,
   "metadata": {},
   "outputs": [
    {
     "name": "stdout",
     "output_type": "stream",
     "text": [
      "移除前： [1, 'hello', 1, 2, 3, 4, 4, 4, 'a', 'aa', 'a']\n",
      "移除后： [1, 'hello', 1, 2, 3, 4, 4, 4, 'aa', 'a']\n"
     ]
    }
   ],
   "source": [
    "list_remove = [1,'hello',1,2,3,4,4,4,'a','aa',\"a\"]\n",
    "\n",
    "print(\"移除前：\", list_remove)\n",
    "list_remove.remove(\"a\")\n",
    "print(\"移除后：\", list_remove)"
   ]
  },
  {
   "cell_type": "markdown",
   "metadata": {},
   "source": [
    "##### 将List中的元素逆序"
   ]
  },
  {
   "cell_type": "code",
   "execution_count": 133,
   "metadata": {},
   "outputs": [
    {
     "name": "stdout",
     "output_type": "stream",
     "text": [
      "['aa', 'a', 4, 4, 4, 3, 2, 1, 1]\n"
     ]
    }
   ],
   "source": [
    "list_reverse = [1,1,2,3,4,4,4,'a','aa']\n",
    "list_reverse.reverse()\n",
    "print(list_reverse)"
   ]
  },
  {
   "cell_type": "markdown",
   "metadata": {},
   "source": [
    "##### 对List中的元素进行排序——sort( )\n",
    "list.sort(cmp=None, key=None, reverse=False)"
   ]
  },
  {
   "cell_type": "markdown",
   "metadata": {},
   "source": [
    "###### a) 无参数默认排序"
   ]
  },
  {
   "cell_type": "code",
   "execution_count": 136,
   "metadata": {},
   "outputs": [
    {
     "name": "stdout",
     "output_type": "stream",
     "text": [
      "List: ['123', 'Facebook', 'Google', 'Runoob', 'Taobao']\n"
     ]
    }
   ],
   "source": [
    "aList = ['123', 'Google', 'Runoob', 'Taobao', 'Facebook'];\n",
    "aList.sort()\n",
    "print(\"List:\",aList)"
   ]
  },
  {
   "cell_type": "markdown",
   "metadata": {},
   "source": [
    "###### b) 使用reverse降序输出"
   ]
  },
  {
   "cell_type": "code",
   "execution_count": 137,
   "metadata": {},
   "outputs": [
    {
     "name": "stdout",
     "output_type": "stream",
     "text": [
      "降序输出: ['u', 'o', 'i', 'e', 'a']\n"
     ]
    }
   ],
   "source": [
    "vowels = ['e', 'a', 'u', 'o', 'i']\n",
    "vowels.sort(reverse=True)\n",
    "print('降序输出:', vowels)"
   ]
  },
  {
   "cell_type": "markdown",
   "metadata": {},
   "source": [
    "###### c) 使用key指定顺序输出 ？？？"
   ]
  },
  {
   "cell_type": "code",
   "execution_count": 140,
   "metadata": {},
   "outputs": [
    {
     "name": "stdout",
     "output_type": "stream",
     "text": [
      "排序列表： [(4, 1), (2, 2), (1, 3), (3, 4)]\n"
     ]
    }
   ],
   "source": [
    "# 获取列表的第二个元素\n",
    "def takeSecond(elem):\n",
    "    return elem[1]\n",
    "\n",
    "random = [(2, 2), (3, 4), (4, 1), (1, 3)]\n",
    "random.sort(key=takeSecond) #不懂这里为什么不用加参数就可以实现\n",
    "print('排序列表：', random)"
   ]
  },
  {
   "cell_type": "markdown",
   "metadata": {},
   "source": [
    "###### d) 使用cmp指定顺序输出"
   ]
  },
  {
   "cell_type": "code",
   "execution_count": 140,
   "metadata": {},
   "outputs": [
    {
     "name": "stdout",
     "output_type": "stream",
     "text": [
      "排序列表： [(4, 1), (2, 2), (1, 3), (3, 4)]\n"
     ]
    }
   ],
   "source": [
    "不会啊"
   ]
  },
  {
   "cell_type": "markdown",
   "metadata": {},
   "source": [
    "### 元组Tuple\n",
    "Tuple中的元素一旦创建是不可以更改的，无法被修改，也无法被删除"
   ]
  },
  {
   "cell_type": "markdown",
   "metadata": {},
   "source": [
    "#### 创建一个Tuple"
   ]
  },
  {
   "cell_type": "code",
   "execution_count": 8,
   "metadata": {},
   "outputs": [
    {
     "name": "stdout",
     "output_type": "stream",
     "text": [
      "number_tuple: (1, 3, 5, 7, 9)\n"
     ]
    }
   ],
   "source": [
    "# 创建Tuple\n",
    "number_tuple = (1, 3, 5, 7, 9)\n",
    "print(\"number_tuple:\" , number_tuple)"
   ]
  },
  {
   "cell_type": "markdown",
   "metadata": {},
   "source": [
    "#### 访问Tuple元素"
   ]
  },
  {
   "cell_type": "code",
   "execution_count": 10,
   "metadata": {},
   "outputs": [
    {
     "name": "stdout",
     "output_type": "stream",
     "text": [
      "7\n"
     ]
    }
   ],
   "source": [
    "print(number_tuple[3])"
   ]
  },
  {
   "cell_type": "markdown",
   "metadata": {},
   "source": [
    "#### 修改一个Tuple（不可行）"
   ]
  },
  {
   "cell_type": "code",
   "execution_count": 3,
   "metadata": {
    "scrolled": true
   },
   "outputs": [
    {
     "ename": "TypeError",
     "evalue": "'tuple' object does not support item assignment",
     "output_type": "error",
     "traceback": [
      "\u001b[0;31m---------------------------------------------------------------------------\u001b[0m",
      "\u001b[0;31mTypeError\u001b[0m                                 Traceback (most recent call last)",
      "\u001b[0;32m<ipython-input-3-69a98a3dd3a2>\u001b[0m in \u001b[0;36m<module>\u001b[0;34m\u001b[0m\n\u001b[1;32m      1\u001b[0m \u001b[0;31m# 修改Tuple（不可行）\u001b[0m\u001b[0;34m\u001b[0m\u001b[0;34m\u001b[0m\u001b[0;34m\u001b[0m\u001b[0m\n\u001b[0;32m----> 2\u001b[0;31m \u001b[0mnumber_tuple\u001b[0m\u001b[0;34m[\u001b[0m\u001b[0;36m1\u001b[0m\u001b[0;34m]\u001b[0m \u001b[0;34m=\u001b[0m \u001b[0;36m20\u001b[0m\u001b[0;34m\u001b[0m\u001b[0;34m\u001b[0m\u001b[0m\n\u001b[0m\u001b[1;32m      3\u001b[0m \u001b[0mprint\u001b[0m\u001b[0;34m(\u001b[0m\u001b[0;34m\"number_tuple:\"\u001b[0m \u001b[0;34m,\u001b[0m \u001b[0mnumber_tuple\u001b[0m\u001b[0;34m)\u001b[0m\u001b[0;34m\u001b[0m\u001b[0;34m\u001b[0m\u001b[0m\n",
      "\u001b[0;31mTypeError\u001b[0m: 'tuple' object does not support item assignment"
     ]
    }
   ],
   "source": [
    "# 修改Tuple（不可行）\n",
    "number_tuple[1] = 20\n",
    "print(\"number_tuple:\" , number_tuple)"
   ]
  },
  {
   "cell_type": "markdown",
   "metadata": {},
   "source": [
    "#### 删除一个Tuple元素（不可行）"
   ]
  },
  {
   "cell_type": "code",
   "execution_count": 4,
   "metadata": {},
   "outputs": [
    {
     "ename": "TypeError",
     "evalue": "'tuple' object doesn't support item deletion",
     "output_type": "error",
     "traceback": [
      "\u001b[0;31m---------------------------------------------------------------------------\u001b[0m",
      "\u001b[0;31mTypeError\u001b[0m                                 Traceback (most recent call last)",
      "\u001b[0;32m<ipython-input-4-c0d6800b4d76>\u001b[0m in \u001b[0;36m<module>\u001b[0;34m\u001b[0m\n\u001b[1;32m      1\u001b[0m \u001b[0;31m# 删除Tuple中某个元素（不可行）\u001b[0m\u001b[0;34m\u001b[0m\u001b[0;34m\u001b[0m\u001b[0;34m\u001b[0m\u001b[0m\n\u001b[0;32m----> 2\u001b[0;31m \u001b[0;32mdel\u001b[0m \u001b[0mnumber_tuple\u001b[0m\u001b[0;34m[\u001b[0m\u001b[0;36m1\u001b[0m\u001b[0;34m]\u001b[0m\u001b[0;34m\u001b[0m\u001b[0;34m\u001b[0m\u001b[0m\n\u001b[0m\u001b[1;32m      3\u001b[0m \u001b[0mprint\u001b[0m\u001b[0;34m(\u001b[0m\u001b[0;34m\"number_tuple:\"\u001b[0m \u001b[0;34m,\u001b[0m \u001b[0mnumber_tuple\u001b[0m\u001b[0;34m)\u001b[0m\u001b[0;34m\u001b[0m\u001b[0;34m\u001b[0m\u001b[0m\n",
      "\u001b[0;31mTypeError\u001b[0m: 'tuple' object doesn't support item deletion"
     ]
    }
   ],
   "source": [
    "# 删除Tuple中某个元素（不可行）\n",
    "del number_tuple[1]\n",
    "print(\"number_tuple:\" , number_tuple)"
   ]
  },
  {
   "cell_type": "markdown",
   "metadata": {},
   "source": [
    "#### 删除整个Tuple"
   ]
  },
  {
   "cell_type": "code",
   "execution_count": 6,
   "metadata": {},
   "outputs": [
    {
     "name": "stdout",
     "output_type": "stream",
     "text": [
      "number_tuple: (1, 3, 5, 7, 9)\n"
     ]
    },
    {
     "ename": "NameError",
     "evalue": "name 'number_tuple' is not defined",
     "output_type": "error",
     "traceback": [
      "\u001b[0;31m---------------------------------------------------------------------------\u001b[0m",
      "\u001b[0;31mNameError\u001b[0m                                 Traceback (most recent call last)",
      "\u001b[0;32m<ipython-input-6-0184a59b0ea0>\u001b[0m in \u001b[0;36m<module>\u001b[0;34m\u001b[0m\n\u001b[1;32m      2\u001b[0m \u001b[0mprint\u001b[0m\u001b[0;34m(\u001b[0m\u001b[0;34m\"number_tuple:\"\u001b[0m \u001b[0;34m,\u001b[0m \u001b[0mnumber_tuple\u001b[0m\u001b[0;34m)\u001b[0m\u001b[0;34m\u001b[0m\u001b[0;34m\u001b[0m\u001b[0m\n\u001b[1;32m      3\u001b[0m \u001b[0;32mdel\u001b[0m \u001b[0mnumber_tuple\u001b[0m\u001b[0;34m\u001b[0m\u001b[0;34m\u001b[0m\u001b[0m\n\u001b[0;32m----> 4\u001b[0;31m \u001b[0mprint\u001b[0m\u001b[0;34m(\u001b[0m\u001b[0;34m\"number_tuple:\"\u001b[0m \u001b[0;34m,\u001b[0m \u001b[0mnumber_tuple\u001b[0m\u001b[0;34m)\u001b[0m\u001b[0;34m\u001b[0m\u001b[0;34m\u001b[0m\u001b[0m\n\u001b[0m",
      "\u001b[0;31mNameError\u001b[0m: name 'number_tuple' is not defined"
     ]
    }
   ],
   "source": [
    "# 删除整个Tuple（可行）\n",
    "print(\"number_tuple:\" , number_tuple)\n",
    "del number_tuple\n",
    "print(\"number_tuple:\" , number_tuple)"
   ]
  },
  {
   "cell_type": "markdown",
   "metadata": {},
   "source": [
    "#### 常用访问方法\n",
    "##### Tuple长度"
   ]
  },
  {
   "cell_type": "code",
   "execution_count": 13,
   "metadata": {},
   "outputs": [
    {
     "name": "stdout",
     "output_type": "stream",
     "text": [
      "3\n"
     ]
    }
   ],
   "source": [
    "print(len((1,2,3)))"
   ]
  },
  {
   "cell_type": "markdown",
   "metadata": {},
   "source": [
    "##### 组合两个Tuple"
   ]
  },
  {
   "cell_type": "code",
   "execution_count": 14,
   "metadata": {},
   "outputs": [
    {
     "name": "stdout",
     "output_type": "stream",
     "text": [
      "(1, 2, 3, 4, 5, 6)\n"
     ]
    }
   ],
   "source": [
    "print((1,2,3)+(4,5,6))"
   ]
  },
  {
   "cell_type": "markdown",
   "metadata": {},
   "source": [
    "##### 重复Tuple"
   ]
  },
  {
   "cell_type": "code",
   "execution_count": 16,
   "metadata": {},
   "outputs": [
    {
     "name": "stdout",
     "output_type": "stream",
     "text": [
      "hellohellohellohello\n",
      "['hello', 'hello', 'hello', 'hello']\n"
     ]
    }
   ],
   "source": [
    "print((\"hello\")*4)\n",
    "print([\"hello\"]*4)"
   ]
  },
  {
   "cell_type": "markdown",
   "metadata": {},
   "source": [
    "##### 判断某个元素是否在Tuple中"
   ]
  },
  {
   "cell_type": "code",
   "execution_count": 17,
   "metadata": {
    "scrolled": true
   },
   "outputs": [
    {
     "name": "stdout",
     "output_type": "stream",
     "text": [
      "True\n"
     ]
    }
   ],
   "source": [
    "print(3 in (1,2,3))"
   ]
  },
  {
   "cell_type": "markdown",
   "metadata": {},
   "source": [
    "##### Tuple的截取"
   ]
  },
  {
   "cell_type": "code",
   "execution_count": 22,
   "metadata": {},
   "outputs": [
    {
     "name": "stdout",
     "output_type": "stream",
     "text": [
      "b\n",
      "c\n",
      "('b', 'c', 'd')\n"
     ]
    }
   ],
   "source": [
    "abcd_tuple = (\"a\", \"b\", \"c\", \"d\")\n",
    "print(abcd_tuple[1])\n",
    "print(abcd_tuple[-2])\n",
    "print(abcd_tuple[1:])"
   ]
  },
  {
   "cell_type": "markdown",
   "metadata": {},
   "source": [
    "### Tuple和List的对比\n",
    "* 相同点归纳：\n",
    "    * 除了形式不同，但是定义方式相同\n",
    "    * 索引都是从0开始，负数表示倒数\n",
    "    * 都可以进行分片使用\n",
    "    * 可以使用len()方法，in关键字\n",
    "* 不同点：\n",
    "    * Tuple的速度比List更快，Tuple在只读不写的时候更加需要用，也可以对数据进行保护（当然如果需要对Tuple进行修改的话，需要先将其转换成List，再去修改（开锁））"
   ]
  },
  {
   "cell_type": "code",
   "execution_count": 41,
   "metadata": {},
   "outputs": [
    {
     "name": "stdout",
     "output_type": "stream",
     "text": [
      "<class 'tuple'>\n"
     ]
    }
   ],
   "source": []
  },
  {
   "cell_type": "markdown",
   "metadata": {},
   "source": [
    "#### 创建只含有一个元素的Tuple和List\n",
    "创建只含有一个元素的Tuple时，需要在结尾加`,`以证明时tuple而不是定义了一个int。而List不需要"
   ]
  },
  {
   "cell_type": "code",
   "execution_count": 29,
   "metadata": {},
   "outputs": [
    {
     "name": "stdout",
     "output_type": "stream",
     "text": [
      "<class 'int'>\n",
      "2\n",
      "<class 'tuple'>\n",
      "(2,)\n",
      "<class 'list'>\n"
     ]
    }
   ],
   "source": [
    "# Tuple情况\n",
    "a_tuple = (2)\n",
    "print(type(a_tuple))\n",
    "print(a_tuple)\n",
    "\n",
    "a_tuple = (2,)\n",
    "print(type(a_tuple))\n",
    "print(a_tuple)\n",
    "\n",
    "# List情况\n",
    "a_list = [1]\n",
    "print(type(a_list))"
   ]
  },
  {
   "cell_type": "markdown",
   "metadata": {},
   "source": [
    "#### 创建含有List的Tuple\n",
    "不变中含有变量，这里的List是可以更改的  \n",
    "（并没有更改Tuple结构本身，第三个元素还是List，只是List中的元素变了，只要这个位置仍然是List，就可以按照List的法则进行更改）"
   ]
  },
  {
   "cell_type": "code",
   "execution_count": 38,
   "metadata": {},
   "outputs": [
    {
     "name": "stdout",
     "output_type": "stream",
     "text": [
      "mixed_tuple: (1, 2, ['a', 'b'])\n",
      "mixed_after (1, 2, ['c', 'd'])\n",
      "(1, 2, ['a', 'b', 'c'])\n",
      "c\n",
      "(1, 2, ['a', 'b'])\n",
      "(1, 2, ['a', 'b', ['c', 'd']])\n",
      "(1, 2, ['a', 'b', ['c', 'd'], ('c', 'd')])\n"
     ]
    }
   ],
   "source": [
    "# 以下均针对Tuple中的List而言\n",
    "mixed_tuple = (1,2,['a','b'])\n",
    "print(\"mixed_tuple:\",mixed_tuple)\n",
    "\n",
    "# 修改Tuple中List的元素值\n",
    "mixed_tuple[2][0] = 'c'\n",
    "mixed_tuple[2][1] = 'd'\n",
    "print(\"mixed_after\",mixed_tuple)\n",
    "\n",
    "# 在List中增加元素值\n",
    "test_tuple = (1,2,['a','b'])\n",
    "test_tuple[2].append('c')\n",
    "print(test_tuple)\n",
    "\n",
    "# 删除List中的元素值\n",
    "value = test_tuple[2].pop(2)\n",
    "print(value)\n",
    "print(test_tuple)\n",
    "\n",
    "# 在List中增加List\n",
    "test_tuple[2].append(['c','d'])\n",
    "print(test_tuple)\n",
    "\n",
    "# 在List中增加Tuple\n",
    "test_tuple[2].append(('c','d'))\n",
    "print(test_tuple)"
   ]
  },
  {
   "cell_type": "markdown",
   "metadata": {},
   "source": [
    "##### 一次提取Tuple中所有变量"
   ]
  },
  {
   "cell_type": "code",
   "execution_count": 44,
   "metadata": {},
   "outputs": [
    {
     "name": "stdout",
     "output_type": "stream",
     "text": [
      "a b c\n"
     ]
    }
   ],
   "source": [
    "# 使用三变量的Tuple提取三元素的Tuple v\n",
    "v = ('a', 'b', 'c')\n",
    "(x, y, z) = v\n",
    "print(x,y,z)"
   ]
  },
  {
   "cell_type": "markdown",
   "metadata": {},
   "source": [
    "### 词典Dictionary\n",
    "键值对：key-value\n",
    "#### 创建Dictionary\n",
    "`'key':'value'`"
   ]
  },
  {
   "cell_type": "code",
   "execution_count": 35,
   "metadata": {},
   "outputs": [],
   "source": [
    "phone_book = {'Tom':123, 'Jerry':456, 'Kim':789}\n",
    "mixed_dict = {'Tom':'boy',11:23.5}"
   ]
  },
  {
   "cell_type": "markdown",
   "metadata": {},
   "source": [
    "#### 访问一个Dictionary的值\n",
    "`dictionary_name['key']`"
   ]
  },
  {
   "cell_type": "code",
   "execution_count": 36,
   "metadata": {},
   "outputs": [
    {
     "name": "stdout",
     "output_type": "stream",
     "text": [
      "Tom's phone number:123\n",
      "混合字典中数字11对应的键值：23.5\n"
     ]
    }
   ],
   "source": [
    "#注意数值型的变量需要转化成为字符串\n",
    "print(\"Tom's phone number:\" + str(phone_book['Tom']))\n",
    "\n",
    "print(\"混合字典中数字11对应的键值：\" + str(mixed_dict[11]))"
   ]
  },
  {
   "cell_type": "markdown",
   "metadata": {},
   "source": [
    "#### 修改Dictionary的数值\n",
    "将对应的key赋予新值"
   ]
  },
  {
   "cell_type": "code",
   "execution_count": 37,
   "metadata": {
    "scrolled": false
   },
   "outputs": [
    {
     "name": "stdout",
     "output_type": "stream",
     "text": [
      "Tom's phone number:999\n"
     ]
    }
   ],
   "source": [
    "phone_book['Tom'] = 999\n",
    "print(\"Tom's phone number:\" + str(phone_book['Tom']))"
   ]
  },
  {
   "cell_type": "markdown",
   "metadata": {},
   "source": [
    "#### 在dictionary中添加一条新数据\n",
    "1.通过新的key名称赋予新值  \n",
    "2.通过输出字典名，可以输出整个字典  "
   ]
  },
  {
   "cell_type": "code",
   "execution_count": 38,
   "metadata": {},
   "outputs": [
    {
     "name": "stdout",
     "output_type": "stream",
     "text": [
      "The whole phone book:{'Tom': 999, 'Jerry': 456, 'Kim': 789, 'Nancy': 666}\n"
     ]
    }
   ],
   "source": [
    "phone_book['Nancy'] = 666\n",
    "print(\"The whole phone book:\" + str(phone_book))"
   ]
  },
  {
   "cell_type": "markdown",
   "metadata": {},
   "source": [
    "#### 删除字典元素\n",
    "##### 删除一个键值对"
   ]
  },
  {
   "cell_type": "code",
   "execution_count": 39,
   "metadata": {},
   "outputs": [
    {
     "name": "stdout",
     "output_type": "stream",
     "text": [
      "before del{'Tom': 999, 'Jerry': 456, 'Kim': 789, 'Nancy': 666}\n",
      "after del{'Jerry': 456, 'Kim': 789, 'Nancy': 666}\n"
     ]
    }
   ],
   "source": [
    "# 删除字典中Tom这行数值，需要重新从3.4.1运行才能看到TOM\n",
    "print(\"before del\" + str(phone_book))\n",
    "del phone_book['Tom']\n",
    "print(\"after del\" + str(phone_book))"
   ]
  },
  {
   "cell_type": "markdown",
   "metadata": {},
   "source": [
    "##### 清空字典中所有元素，但是保留字典本身（不可逆）"
   ]
  },
  {
   "cell_type": "code",
   "execution_count": 40,
   "metadata": {},
   "outputs": [
    {
     "name": "stdout",
     "output_type": "stream",
     "text": [
      "after clear{}\n"
     ]
    }
   ],
   "source": [
    "phone_book.clear()\n",
    "print(\"after clear\" + str(phone_book))"
   ]
  },
  {
   "cell_type": "markdown",
   "metadata": {},
   "source": [
    "#### 删除字典"
   ]
  },
  {
   "cell_type": "code",
   "execution_count": 33,
   "metadata": {},
   "outputs": [
    {
     "name": "stdout",
     "output_type": "stream",
     "text": [
      "before del{'Jerry': 456, 'Kim': 789, 'Nancy': 666}\n"
     ]
    },
    {
     "ename": "NameError",
     "evalue": "name 'phone_book' is not defined",
     "output_type": "error",
     "traceback": [
      "\u001b[0;31m---------------------------------------------------------------------------\u001b[0m",
      "\u001b[0;31mNameError\u001b[0m                                 Traceback (most recent call last)",
      "\u001b[0;32m<ipython-input-33-f22b05db140a>\u001b[0m in \u001b[0;36m<module>\u001b[0;34m\u001b[0m\n\u001b[1;32m      1\u001b[0m \u001b[0mprint\u001b[0m\u001b[0;34m(\u001b[0m\u001b[0;34m\"before del\"\u001b[0m \u001b[0;34m+\u001b[0m \u001b[0mstr\u001b[0m\u001b[0;34m(\u001b[0m\u001b[0mphone_book\u001b[0m\u001b[0;34m)\u001b[0m\u001b[0;34m)\u001b[0m\u001b[0;34m\u001b[0m\u001b[0;34m\u001b[0m\u001b[0m\n\u001b[1;32m      2\u001b[0m \u001b[0;32mdel\u001b[0m \u001b[0mphone_book\u001b[0m\u001b[0;34m\u001b[0m\u001b[0;34m\u001b[0m\u001b[0m\n\u001b[0;32m----> 3\u001b[0;31m \u001b[0mprint\u001b[0m\u001b[0;34m(\u001b[0m\u001b[0;34m\"after del\"\u001b[0m \u001b[0;34m+\u001b[0m \u001b[0mstr\u001b[0m\u001b[0;34m(\u001b[0m\u001b[0mphone_book\u001b[0m\u001b[0;34m)\u001b[0m\u001b[0;34m)\u001b[0m\u001b[0;34m\u001b[0m\u001b[0;34m\u001b[0m\u001b[0m\n\u001b[0m",
      "\u001b[0;31mNameError\u001b[0m: name 'phone_book' is not defined"
     ]
    }
   ],
   "source": [
    "print(\"before del\" + str(phone_book))\n",
    "del phone_book\n",
    "print(\"after del\" + str(phone_book))"
   ]
  },
  {
   "cell_type": "markdown",
   "metadata": {},
   "source": [
    "#### Dictionary & Tuple List之间的区别"
   ]
  },
  {
   "cell_type": "markdown",
   "metadata": {},
   "source": [
    "* 键名不能重复，否则会被覆盖"
   ]
  },
  {
   "cell_type": "code",
   "execution_count": 43,
   "metadata": {},
   "outputs": [
    {
     "name": "stdout",
     "output_type": "stream",
     "text": [
      "rep_test:{'name': 'bb', 'age': 15}\n",
      "rep_list:['name', 'name']\n",
      "rep_tuple:('name', 'name')\n"
     ]
    }
   ],
   "source": [
    "# dictionary\n",
    "rep_test = {'name':'aa', 'age':15, 'name':'bb'}\n",
    "print('rep_test:' + str(rep_test))\n",
    "\n",
    "# list\n",
    "rep_list = ['name','name']\n",
    "print('rep_list:' + str(rep_list))\n",
    "\n",
    "# tuple\n",
    "rep_tuple = ('name','name')\n",
    "print('rep_tuple:' + str(rep_tuple))"
   ]
  },
  {
   "cell_type": "markdown",
   "metadata": {},
   "source": [
    "* 键值key不可变  \n",
    "字典中的key可以用：数字、字符串、Tuple，但是不能用List（可变，不符合要求）"
   ]
  },
  {
   "cell_type": "code",
   "execution_count": 46,
   "metadata": {},
   "outputs": [
    {
     "name": "stdout",
     "output_type": "stream",
     "text": [
      "{'name': 'John', 'Age': 13}\n"
     ]
    }
   ],
   "source": [
    "# list_dict = {['name']:'John', 'Age':13}\n",
    "# print(list_dict)\n",
    "tuple_dict = {('name'):'John', 'Age':13}\n",
    "print(tuple_dict)"
   ]
  },
  {
   "cell_type": "code",
   "execution_count": null,
   "metadata": {},
   "outputs": [],
   "source": [
    "# 字典还有很多内置方法，第一遍先不敲，回头再敲\n",
    "# 六、字典内置函数&方法\n",
    "# Python字典包含了以下内置函数：\n",
    "# 1、cmp(dict1, dict2)：比较两个字典元素。\n",
    "# 2、len(dict)：计算字典元素个数，即键的总数。\n",
    "# 3、str(dict)：输出字典可打印的字符串表示。\n",
    "# 4、type(variable)：返回输入的变量类型，如果变量是字典就返回字典类型。\n",
    "# Python字典包含了以下内置方法：\n",
    "# 1、radiansdict.clear()：删除字典内所有元素\n",
    "# 2、radiansdict.copy()：返回一个字典的浅复制\n",
    "# 3、radiansdict.fromkeys()：创建一个新字典，以序列seq中元素做字典的键，val为字典所有键对应的初始值\n",
    "# 4、radiansdict.get(key, default=None)：返回指定键的值，如果值不在字典中返回default值\n",
    "# 5、radiansdict.has_key(key)：如果键在字典dict里返回true，否则返回false\n",
    "# 6、radiansdict.items()：以列表返回可遍历的(键, 值) 元组数组\n",
    "# 7、radiansdict.keys()：以列表返回一个字典所有的键\n",
    "# 8、radiansdict.setdefault(key, default=None)：和get()类似, 但如果键不已经存在于字典中，将会添加键并将值设为default\n",
    "# 9、radiansdict.update(dict2)：把字典dict2的键/值对更新到dict里\n",
    "# 10、radiansdict.values()：以列表返回字典中的所有值"
   ]
  },
  {
   "cell_type": "markdown",
   "metadata": {},
   "source": [
    "### 函数Function"
   ]
  },
  {
   "cell_type": "markdown",
   "metadata": {},
   "source": [
    "#### 定义函数&调用\n",
    "几个点：关键字def、函数名、参数、冒号：、返回值"
   ]
  },
  {
   "cell_type": "code",
   "execution_count": 1,
   "metadata": {},
   "outputs": [
    {
     "name": "stdout",
     "output_type": "stream",
     "text": [
      " hi!\n"
     ]
    }
   ],
   "source": [
    "def say_hi():\n",
    "    print(\" hi!\")\n",
    "\n",
    "say_hi()"
   ]
  },
  {
   "cell_type": "markdown",
   "metadata": {},
   "source": [
    "#### 含参、含返回值的函数定义"
   ]
  },
  {
   "cell_type": "code",
   "execution_count": 2,
   "metadata": {},
   "outputs": [
    {
     "name": "stdout",
     "output_type": "stream",
     "text": [
      "Happy Birthday!Happy Birthday!Happy Birthday!Happy Birthday!\n"
     ]
    }
   ],
   "source": [
    "def repeat_str(str, times):\n",
    "    repeated_strs = str * times\n",
    "    return repeated_strs\n",
    "\n",
    "repeated_strings = repeat_str(\"Happy Birthday!\", 4)\n",
    "print(repeated_strings)"
   ]
  },
  {
   "cell_type": "markdown",
   "metadata": {},
   "source": [
    "#### 全局变量&局部变量"
   ]
  },
  {
   "cell_type": "code",
   "execution_count": 3,
   "metadata": {},
   "outputs": [
    {
     "name": "stdout",
     "output_type": "stream",
     "text": [
      "x is: 60\n",
      "change local x to 3\n",
      "x is still 60\n"
     ]
    }
   ],
   "source": [
    "# 局部&全局变量\n",
    "def foo(x):\n",
    "    print(\"x is: \" + str(x))\n",
    "    # 下面改的是局部变量\n",
    "    x = 3\n",
    "    print(\"change local x to \" + str(x))\n",
    "\n",
    "# 函数内x的值（先全局再局部修改，内部修改不影响外界）\n",
    "x = 60\n",
    "foo(x)\n",
    "\n",
    "# 直接外部的x值\n",
    "print('x is still', str(x))"
   ]
  },
  {
   "cell_type": "code",
   "execution_count": 4,
   "metadata": {},
   "outputs": [
    {
     "name": "stdout",
     "output_type": "stream",
     "text": [
      "x is: 60\n",
      "change local x to 3\n",
      "value of x is 3\n"
     ]
    }
   ],
   "source": [
    "# 在函数内部修改全局变量的值，声明global，不用传参，外面的x里面可以直接用\n",
    "x = 60\n",
    " \n",
    "def foo():\n",
    "    global x\n",
    "    print(\"x is: \" + str(x))\n",
    "    x = 3\n",
    "    print(\"change local x to \" + str(x))\n",
    " \n",
    "foo()\n",
    "print('value of x is' , str(x))"
   ]
  },
  {
   "cell_type": "code",
   "execution_count": 5,
   "metadata": {},
   "outputs": [
    {
     "ename": "UnboundLocalError",
     "evalue": "local variable 'x' referenced before assignment",
     "output_type": "error",
     "traceback": [
      "\u001b[0;31m---------------------------------------------------------------------------\u001b[0m",
      "\u001b[0;31mUnboundLocalError\u001b[0m                         Traceback (most recent call last)",
      "\u001b[0;32m<ipython-input-5-9a6038161f2d>\u001b[0m in \u001b[0;36m<module>\u001b[0;34m\u001b[0m\n\u001b[1;32m      9\u001b[0m \u001b[0;31m# 函数内x的值（先全局再局部修改，内部修改不影响外界）\u001b[0m\u001b[0;34m\u001b[0m\u001b[0;34m\u001b[0m\u001b[0;34m\u001b[0m\u001b[0m\n\u001b[1;32m     10\u001b[0m \u001b[0;34m\u001b[0m\u001b[0m\n\u001b[0;32m---> 11\u001b[0;31m \u001b[0mfoo\u001b[0m\u001b[0;34m(\u001b[0m\u001b[0;34m)\u001b[0m\u001b[0;34m\u001b[0m\u001b[0;34m\u001b[0m\u001b[0m\n\u001b[0m\u001b[1;32m     12\u001b[0m \u001b[0;34m\u001b[0m\u001b[0m\n\u001b[1;32m     13\u001b[0m \u001b[0;31m# 直接外部的x值\u001b[0m\u001b[0;34m\u001b[0m\u001b[0;34m\u001b[0m\u001b[0;34m\u001b[0m\u001b[0m\n",
      "\u001b[0;32m<ipython-input-5-9a6038161f2d>\u001b[0m in \u001b[0;36mfoo\u001b[0;34m()\u001b[0m\n\u001b[1;32m      2\u001b[0m \u001b[0mx\u001b[0m \u001b[0;34m=\u001b[0m \u001b[0;36m60\u001b[0m\u001b[0;34m\u001b[0m\u001b[0;34m\u001b[0m\u001b[0m\n\u001b[1;32m      3\u001b[0m \u001b[0;32mdef\u001b[0m \u001b[0mfoo\u001b[0m\u001b[0;34m(\u001b[0m\u001b[0;34m)\u001b[0m\u001b[0;34m:\u001b[0m\u001b[0;34m\u001b[0m\u001b[0;34m\u001b[0m\u001b[0m\n\u001b[0;32m----> 4\u001b[0;31m     \u001b[0mprint\u001b[0m\u001b[0;34m(\u001b[0m\u001b[0;34m\"x is: \"\u001b[0m \u001b[0;34m+\u001b[0m \u001b[0mstr\u001b[0m\u001b[0;34m(\u001b[0m\u001b[0mx\u001b[0m\u001b[0;34m)\u001b[0m\u001b[0;34m)\u001b[0m\u001b[0;34m\u001b[0m\u001b[0;34m\u001b[0m\u001b[0m\n\u001b[0m\u001b[1;32m      5\u001b[0m     \u001b[0;31m# 下面改的是局部变量\u001b[0m\u001b[0;34m\u001b[0m\u001b[0;34m\u001b[0m\u001b[0;34m\u001b[0m\u001b[0m\n\u001b[1;32m      6\u001b[0m     \u001b[0mx\u001b[0m \u001b[0;34m=\u001b[0m \u001b[0;36m3\u001b[0m\u001b[0;34m\u001b[0m\u001b[0;34m\u001b[0m\u001b[0m\n",
      "\u001b[0;31mUnboundLocalError\u001b[0m: local variable 'x' referenced before assignment"
     ]
    }
   ],
   "source": [
    "# 没有声明global的，函数不知道应该处理哪个x(出错)\n",
    "x = 60\n",
    "def foo():\n",
    "    print(\"x is: \" + str(x))\n",
    "    # 下面改的是局部变量\n",
    "    x = 3\n",
    "    print(\"change local x to \" + str(x))\n",
    "\n",
    "# 函数内x的值（先全局再局部修改，内部修改不影响外界）\n",
    "\n",
    "foo()\n",
    "\n",
    "# 直接外部的x值\n",
    "print('x is still', str(x))"
   ]
  },
  {
   "cell_type": "markdown",
   "metadata": {},
   "source": [
    "#### 关于参数\n",
    "##### 默认参数的函数"
   ]
  },
  {
   "cell_type": "code",
   "execution_count": 8,
   "metadata": {},
   "outputs": [
    {
     "name": "stdout",
     "output_type": "stream",
     "text": [
      "Happy Birthday!\n",
      "Happy Birthday!Happy Birthday!Happy Birthday!Happy Birthday!\n"
     ]
    }
   ],
   "source": [
    "# 如果设置默认参数，当不设置该参数值时，使用默认参数。当输入参数时使用该参数。\n",
    "def repeat_str(s, times = 1):\n",
    "    repeated_strs = s * times\n",
    "    return repeated_strs\n",
    "  \n",
    "  \n",
    "repeated_strings = repeat_str(\"Happy Birthday!\")\n",
    "print(repeated_strings)\n",
    "\n",
    "repeated_strings_2 = repeat_str(\"Happy Birthday!\" , 4)\n",
    "print(repeated_strings_2)"
   ]
  },
  {
   "cell_type": "markdown",
   "metadata": {},
   "source": [
    "注意：默认参数后面参数必须指定默认值，不能跟随无默认值的参数\n",
    "```\n",
    "f(a, b =2) #合法\n",
    "f(a = 2, b) #非法\n",
    "```"
   ]
  },
  {
   "cell_type": "code",
   "execution_count": 9,
   "metadata": {},
   "outputs": [
    {
     "ename": "SyntaxError",
     "evalue": "non-default argument follows default argument (<ipython-input-9-841145f53985>, line 1)",
     "output_type": "error",
     "traceback": [
      "\u001b[0;36m  File \u001b[0;32m\"<ipython-input-9-841145f53985>\"\u001b[0;36m, line \u001b[0;32m1\u001b[0m\n\u001b[0;31m    def repeat_str(times = 1, s):\u001b[0m\n\u001b[0m                  ^\u001b[0m\n\u001b[0;31mSyntaxError\u001b[0m\u001b[0;31m:\u001b[0m non-default argument follows default argument\n"
     ]
    }
   ],
   "source": [
    "def repeat_str(times = 1, s):\n",
    "    repeated_strs = s * times\n",
    "    return repeated_strs"
   ]
  },
  {
   "cell_type": "markdown",
   "metadata": {},
   "source": [
    "#### 关键词参数\n",
    "调用函数时，选择性的传入部分参数  \n",
    "1.无参数指定，按照填写顺序赋值  \n",
    "2.有参数指定值填写指定值，没有指定的值按照顺序填写，没赋值的填写默认值  \n",
    "3.可以不按顺序赋值  "
   ]
  },
  {
   "cell_type": "code",
   "execution_count": 10,
   "metadata": {},
   "outputs": [
    {
     "name": "stdout",
     "output_type": "stream",
     "text": [
      "a is 13 and b is 17 and c is 8\n",
      "a is 125 and b is 4 and c is 24\n",
      "a is 80 and b is 4 and c is 40\n"
     ]
    }
   ],
   "source": [
    "def func(a, b = 4, c = 8):\n",
    "    print('a is', a, 'and b is', b, 'and c is', c)\n",
    "\n",
    "func(13, 17)\n",
    "func(125, c = 24)\n",
    "func(c = 40, a = 80)"
   ]
  },
  {
   "cell_type": "markdown",
   "metadata": {},
   "source": [
    "#### VarArgs参数\n",
    "当传入参数量未知时使用，3，5，8等个，不用指明传入多少参数，而是将参数个数当成一个变量传入。\n",
    "\n",
    "* `*name` 代表tuple传入\n",
    "* `**name` 代表传入用keywords指明的参数，当作dictionary"
   ]
  },
  {
   "cell_type": "code",
   "execution_count": 17,
   "metadata": {},
   "outputs": [
    {
     "name": "stdout",
     "output_type": "stream",
     "text": [
      "fpara: hello\n",
      "nums: (1, 3, 5, 7)\n",
      "words: {'word': 'python', 'another_word': 'java'}\n"
     ]
    }
   ],
   "source": [
    "def print_paras(fpara, *nums, **words):\n",
    "    print(\"fpara: \" + str(fpara))\n",
    "    print(\"nums: \" + str(nums))\n",
    "    print(\"words: \" + str(words))\n",
    "\n",
    "print_paras(\"hello\", 1, 3, 5, 7, word = \"python\", another_word = \"java\")\n"
   ]
  },
  {
   "cell_type": "markdown",
   "metadata": {},
   "source": [
    "## 控制流"
   ]
  },
  {
   "cell_type": "markdown",
   "metadata": {},
   "source": [
    "### if\n",
    "格式：\n",
    "```\n",
    "if condition:\n",
    "     do something\n",
    "elif other_condition:\n",
    "     do something\n",
    "else:\n",
    "     other option\n",
    "```\n",
    "\n",
    "**典型案例：猜数字**"
   ]
  },
  {
   "cell_type": "code",
   "execution_count": 18,
   "metadata": {},
   "outputs": [
    {
     "name": "stdout",
     "output_type": "stream",
     "text": [
      "Enter an integer : 8\n",
      "No, the number is higher than that\n",
      "Done\n"
     ]
    }
   ],
   "source": [
    "#if statement example\n",
    "\n",
    "number = 59\n",
    "guess = int(input('Enter an integer : '))\n",
    "\n",
    "if guess == number:\n",
    "    # New block starts here\n",
    "    print('Bingo! you guessed it right.')\n",
    "    print('(but you do not win any prizes!)')\n",
    "    # New block ends here\n",
    "elif guess < number:\n",
    "    # Another block\n",
    "    print('No, the number is higher than that')\n",
    "    # You can do whatever you want in a block ...\n",
    "else:\n",
    "    print('No, the number is a  lower than that')\n",
    "    # you must have guessed > number to reach here\n",
    "\n",
    "print('Done')"
   ]
  },
  {
   "cell_type": "markdown",
   "metadata": {},
   "source": [
    "### for\n",
    "for是在循环中有默认加1选项：  \n",
    "（可能是利用range进行循环的，也可能是在list中默认一个一个往下排）\n"
   ]
  },
  {
   "cell_type": "code",
   "execution_count": 1,
   "metadata": {},
   "outputs": [
    {
     "name": "stdout",
     "output_type": "stream",
     "text": [
      "1\n",
      "2\n",
      "3\n",
      "4\n",
      "5\n",
      "6\n",
      "7\n",
      "8\n",
      "9\n",
      "The for loop is over\n"
     ]
    }
   ],
   "source": [
    "# 在数列中循环\n",
    "for i in range(1, 10):\n",
    "    print(i)\n",
    "else:\n",
    "    print('The for loop is over')"
   ]
  },
  {
   "cell_type": "code",
   "execution_count": 2,
   "metadata": {},
   "outputs": [
    {
     "name": "stdout",
     "output_type": "stream",
     "text": [
      "1\n",
      "3\n",
      "5\n",
      "7\n",
      "9\n"
     ]
    }
   ],
   "source": [
    "# 在list中循环\n",
    "a_list = [1, 3, 5, 7, 9]\n",
    "for i in a_list:\n",
    "    print(i)"
   ]
  },
  {
   "cell_type": "code",
   "execution_count": 3,
   "metadata": {},
   "outputs": [
    {
     "name": "stdout",
     "output_type": "stream",
     "text": [
      "1\n",
      "3\n",
      "5\n",
      "7\n",
      "9\n"
     ]
    }
   ],
   "source": [
    "# 在tuple中循环\n",
    "a_tuple = (1, 3, 5, 7, 9)\n",
    "for i in a_tuple:\n",
    "    print(i)"
   ]
  },
  {
   "cell_type": "code",
   "execution_count": 4,
   "metadata": {},
   "outputs": [
    {
     "name": "stdout",
     "output_type": "stream",
     "text": [
      "Tom\n",
      "111\n",
      "Jerry\n",
      "222\n",
      "Cathy\n",
      "333\n",
      "Tom 111\n",
      "Jerry 222\n",
      "Cathy 333\n"
     ]
    }
   ],
   "source": [
    "# 在Dictionary中循环\n",
    "a_dict = {'Tom':'111', 'Jerry':'222', 'Cathy':'333'}\n",
    "\n",
    "# 先取key，再取value\n",
    "for ele in a_dict:\n",
    "    print(ele)\n",
    "    print(a_dict[ele])\n",
    "    \n",
    "# key, value用两个参数取出来【其中dictionary.items()很重要】\n",
    "for key, elem in a_dict.items():\n",
    "    print(key, elem)"
   ]
  },
  {
   "cell_type": "markdown",
   "metadata": {},
   "source": [
    "**典型案例：猜数字（不断循环）**"
   ]
  },
  {
   "cell_type": "code",
   "execution_count": null,
   "metadata": {},
   "outputs": [],
   "source": [
    "number = 59\n",
    "num_chances = 3\n",
    "print(\"you have only 3 chances to guess\")\n",
    "\n",
    "for i in range(1, num_chances + 1):\n",
    "    print(\"chance \" + str(i))\n",
    "    guess = int(input('Enter an integer : '))\n",
    "    if guess == number:\n",
    "        # New block starts here\n",
    "        print('Bingo! you guessed it right.')\n",
    "        print('(but you do not win any prizes!)') \n",
    "        break\n",
    "\n",
    "        # New block ends here\n",
    "    elif guess < number:\n",
    "        # Another block\n",
    "        print('No, the number is higher than that, keep guessing, you have ' + str(num_chances - i) + ' chances left')\n",
    "        # You can do whatever you want in a block ...\n",
    "    else:\n",
    "        print('No, the number is lower than that, keep guessing, you have ' + str(num_chances - i) + ' chances left')\n",
    "        # you must have guessed > number to reach here\n",
    "print('Done')"
   ]
  },
  {
   "cell_type": "markdown",
   "metadata": {},
   "source": [
    "### while\n",
    "**典型案例：猜数字（可以不断循环）**"
   ]
  },
  {
   "cell_type": "code",
   "execution_count": 1,
   "metadata": {},
   "outputs": [
    {
     "name": "stdout",
     "output_type": "stream",
     "text": [
      "Enter an integer : 59\n",
      "Bingo! you guessed it right.\n",
      "Done\n"
     ]
    }
   ],
   "source": [
    "number = 59\n",
    "guess_flag = False\n",
    " \n",
    "while guess_flag == False:\n",
    "    guess = int(input('Enter an integer : '))\n",
    "    if guess == number:\n",
    "        # New block starts here\n",
    "        guess_flag = True\n",
    "\n",
    "        # New block ends here\n",
    "    elif guess < number:\n",
    "        # Another block\n",
    "        print('No, the number is higher than that, keep guessing')\n",
    "        # You can do whatever you want in a block ...\n",
    "    else:\n",
    "        print('No, the number is a  lower than that, keep guessing')\n",
    "        # you must have guessed > number to reach here\n",
    "\n",
    "print('Bingo! you guessed it right.')\n",
    "print('Done')"
   ]
  },
  {
   "cell_type": "markdown",
   "metadata": {},
   "source": [
    "### break & continue & pass\n",
    "break：跳出整个循环  \n",
    "continue：跳出本次循环，进行下一轮循环  \n",
    "pass：有了思路后用pass来占位，内容为空，会继续往下进行\n",
    "\n",
    "\n",
    "```\n",
    "#Java中的写法\n",
    "if(a>b){\n",
    "    //没有内容\n",
    "}else{\n",
    "    //没有内容\n",
    "}\n",
    "```\n",
    "\n",
    "~~~~~~~~~~~~~\n",
    "\n",
    "```\n",
    "#Python中的写法\n",
    "if a > b:\n",
    "    pass\n",
    "else:\n",
    "    pass\n",
    "```"
   ]
  },
  {
   "cell_type": "markdown",
   "metadata": {},
   "source": [
    "#### break和continue的区别"
   ]
  },
  {
   "cell_type": "code",
   "execution_count": 2,
   "metadata": {},
   "outputs": [
    {
     "name": "stdout",
     "output_type": "stream",
     "text": [
      "Enter an integer : 59\n",
      "Bingo! you guessed it right.\n",
      "Done\n"
     ]
    }
   ],
   "source": [
    "number = 59\n",
    " \n",
    "while True:\n",
    "    guess = int(input('Enter an integer : '))\n",
    "    if guess == number:\n",
    "        # New block starts here\n",
    "        break\n",
    "\n",
    "        # New block ends here\n",
    "    if guess < number:\n",
    "        # Another block\n",
    "        print('No, the number is higher than that, keep guessing')\n",
    "        continue\n",
    "        # You can do whatever you want in a block ...\n",
    "    else:\n",
    "        print('No, the number is a  lower than that, keep guessing')\n",
    "        continue\n",
    "        # you must have guessed > number to reach here\n",
    " \n",
    "print('Bingo! you guessed it right.') \n",
    "print('Done')"
   ]
  },
  {
   "cell_type": "markdown",
   "metadata": {},
   "source": [
    "#### pass和continue的区别\n",
    "##### 在list中循环"
   ]
  },
  {
   "cell_type": "code",
   "execution_count": 16,
   "metadata": {
    "scrolled": true
   },
   "outputs": [
    {
     "name": "stdout",
     "output_type": "stream",
     "text": [
      "using continue:\n",
      "1\n",
      "2\n"
     ]
    }
   ],
   "source": [
    "# continue\n",
    "a_list = [0, 1, 2]\n",
    "\n",
    "print(\"using continue:\")\n",
    "for i in a_list:\n",
    "    if not i:\n",
    "        continue\n",
    "    print(i)\n",
    "\n",
    "# 解释如下：\n",
    "# 第一次：i=0, if not 0时，continue执行，跳出本次循环，执行i=1\n",
    "# 第二、三次：i=1,2，if not 1/2时，不执行continue，但是执行print(i)"
   ]
  },
  {
   "cell_type": "markdown",
   "metadata": {},
   "source": [
    "* 解释如下"
   ]
  },
  {
   "cell_type": "code",
   "execution_count": 13,
   "metadata": {},
   "outputs": [],
   "source": [
    "# 这里等同于if not True/if False，剩下的内容就不会运行出来\n",
    "if not 2:\n",
    "    print(\"hello\")"
   ]
  },
  {
   "cell_type": "code",
   "execution_count": 14,
   "metadata": {},
   "outputs": [
    {
     "name": "stdout",
     "output_type": "stream",
     "text": [
      "hello\n"
     ]
    }
   ],
   "source": [
    "# 这里等同于if not False/if True，剩下的内容会运行出来\n",
    "if not 0:\n",
    "    print(\"hello\")"
   ]
  },
  {
   "cell_type": "code",
   "execution_count": null,
   "metadata": {
    "scrolled": true
   },
   "outputs": [],
   "source": [
    "# pass\n",
    "a_list = [0, 1, 2]\n",
    "    \n",
    "print(\"using pass:\")    \n",
    "for i in a_list:\n",
    "    if not i:\n",
    "        pass\n",
    "    print(i)"
   ]
  },
  {
   "cell_type": "markdown",
   "metadata": {},
   "source": [
    "##### 用for中循环字母\n",
    "关于pass和continue后面是否继续运行"
   ]
  },
  {
   "cell_type": "code",
   "execution_count": 17,
   "metadata": {},
   "outputs": [
    {
     "name": "stdout",
     "output_type": "stream",
     "text": [
      "p2\n",
      "t3\n",
      "h3\n",
      "o3\n",
      "n3\n"
     ]
    }
   ],
   "source": [
    "# pass后面执行i=3\n",
    "\n",
    "a = 'pythyon'\n",
    "i = 2\n",
    "for element in a:\n",
    "    if element == 'y':\n",
    "        pass\n",
    "        i = 3\n",
    "    else:\n",
    "        print(element+str(i))"
   ]
  },
  {
   "cell_type": "code",
   "execution_count": 18,
   "metadata": {},
   "outputs": [
    {
     "name": "stdout",
     "output_type": "stream",
     "text": [
      "p2\n",
      "t2\n",
      "h2\n",
      "o2\n",
      "n2\n"
     ]
    }
   ],
   "source": [
    "# continue后面不执行i=3\n",
    "\n",
    "a = 'pythyon'\n",
    "i = 2\n",
    "for element in a:\n",
    "    if element == 'y':\n",
    "        continue\n",
    "        i = 3\n",
    "    else:\n",
    "        print(element+str(i))"
   ]
  },
  {
   "cell_type": "markdown",
   "metadata": {},
   "source": [
    "## 输入输出格式"
   ]
  },
  {
   "cell_type": "markdown",
   "metadata": {},
   "source": [
    "### Io\n",
    "用户输入函数\n",
    "`input`"
   ]
  },
  {
   "cell_type": "code",
   "execution_count": 1,
   "metadata": {},
   "outputs": [
    {
     "name": "stdout",
     "output_type": "stream",
     "text": [
      "Enter a string: abc\n",
      "Enter another string: qqq\n",
      "str_1 is: abc. str_2 is :qqq\n"
     ]
    }
   ],
   "source": [
    "str_1 = input(\"Enter a string: \")\n",
    "str_2 = input(\"Enter another string: \")\n",
    "\n",
    "#两种将输入进行输出的格式(任选其一即可)\n",
    "print(\"str_1 is: \" + str_1 + \". str_2 is :\" + str_2)\n",
    "# print(\"str_1 is {} + str_2 is {}\".format(str_1, str_2))"
   ]
  },
  {
   "cell_type": "markdown",
   "metadata": {},
   "source": [
    "### 文件输入输出 FileIo\n",
    "以下几个函数：`open()`、`write()`、`close()`"
   ]
  },
  {
   "cell_type": "markdown",
   "metadata": {},
   "source": [
    "#### 写出文件操作\n",
    "使用`open()`函数：第一个参数是（读入/写出）文件名，第二个参数是读/写的操作，默认为读，如果加上'w'参数则认为是写"
   ]
  },
  {
   "cell_type": "code",
   "execution_count": 2,
   "metadata": {},
   "outputs": [
    {
     "name": "stdout",
     "output_type": "stream",
     "text": [
      "I love learning python\n",
      "because python is fun\n",
      "and also easy to use\n",
      "\n"
     ]
    }
   ],
   "source": [
    "# 给定写入文本\n",
    "some_sentences = '''\\\n",
    "I love learning python\n",
    "because python is fun\n",
    "and also easy to use\n",
    "'''\n",
    "print(some_sentences)"
   ]
  },
  {
   "cell_type": "code",
   "execution_count": 3,
   "metadata": {},
   "outputs": [],
   "source": [
    "# 写入文件\n",
    "f = open('sentences.txt', 'w')\n",
    "#Write text to File\n",
    "f.write(some_sentences)\n",
    "f.close()"
   ]
  },
  {
   "cell_type": "markdown",
   "metadata": {},
   "source": [
    "#### 读入文件操作\n",
    "`f.readline()` 这个函数每调用一次就会输出一行，连续调用两次就会输出两行，赋值给不同的变量"
   ]
  },
  {
   "cell_type": "code",
   "execution_count": 8,
   "metadata": {},
   "outputs": [
    {
     "name": "stdout",
     "output_type": "stream",
     "text": [
      "I love learning python\n",
      "\n",
      "because python is fun\n",
      "\n",
      "and also easy to use\n",
      "\n"
     ]
    },
    {
     "data": {
      "text/plain": [
       "<function TextIOWrapper.close()>"
      ]
     },
     "execution_count": 8,
     "metadata": {},
     "output_type": "execute_result"
    }
   ],
   "source": [
    "# 读文件\n",
    "f = open('sentences.txt')\n",
    "while True:\n",
    "    line = f.readline()\n",
    "    #Zero length means End Of File\n",
    "    if len(line) == 0:\n",
    "        break\n",
    "    print(line)\n",
    "# close the File\n",
    "f.close"
   ]
  },
  {
   "cell_type": "markdown",
   "metadata": {},
   "source": [
    "## 错误和异常 ErrorsExceptions"
   ]
  },
  {
   "cell_type": "markdown",
   "metadata": {},
   "source": [
    "### 语法错误（Syntax Errors）"
   ]
  },
  {
   "cell_type": "code",
   "execution_count": 10,
   "metadata": {
    "scrolled": true
   },
   "outputs": [
    {
     "ename": "SyntaxError",
     "evalue": "invalid syntax (<ipython-input-10-c57c57ff88de>, line 2)",
     "output_type": "error",
     "traceback": [
      "\u001b[0;36m  File \u001b[0;32m\"<ipython-input-10-c57c57ff88de>\"\u001b[0;36m, line \u001b[0;32m2\u001b[0m\n\u001b[0;31m    while True\u001b[0m\n\u001b[0m              ^\u001b[0m\n\u001b[0;31mSyntaxError\u001b[0m\u001b[0;31m:\u001b[0m invalid syntax\n"
     ]
    }
   ],
   "source": [
    "# 如：缺少冒号\n",
    "while True\n",
    "    print(\"Hello World!\")"
   ]
  },
  {
   "cell_type": "markdown",
   "metadata": {},
   "source": [
    "### 异常（Exceptions）\n",
    "Exception doc: https://docs.python.org/3.4/library/exceptions.html"
   ]
  },
  {
   "cell_type": "code",
   "execution_count": 11,
   "metadata": {
    "scrolled": true
   },
   "outputs": [
    {
     "ename": "ZeroDivisionError",
     "evalue": "division by zero",
     "output_type": "error",
     "traceback": [
      "\u001b[0;31m---------------------------------------------------------------------------\u001b[0m",
      "\u001b[0;31mZeroDivisionError\u001b[0m                         Traceback (most recent call last)",
      "\u001b[0;32m<ipython-input-11-dbdbe267ab88>\u001b[0m in \u001b[0;36m<module>\u001b[0;34m\u001b[0m\n\u001b[1;32m      1\u001b[0m \u001b[0;31m# 如：被除数是0\u001b[0m\u001b[0;34m\u001b[0m\u001b[0;34m\u001b[0m\u001b[0;34m\u001b[0m\u001b[0m\n\u001b[0;32m----> 2\u001b[0;31m \u001b[0mprint\u001b[0m\u001b[0;34m(\u001b[0m\u001b[0;36m8\u001b[0m\u001b[0;34m/\u001b[0m\u001b[0;36m0\u001b[0m\u001b[0;34m)\u001b[0m\u001b[0;34m\u001b[0m\u001b[0;34m\u001b[0m\u001b[0m\n\u001b[0m",
      "\u001b[0;31mZeroDivisionError\u001b[0m: division by zero"
     ]
    }
   ],
   "source": [
    "# ZeroDivisionError，如：被除数是0\n",
    "print(8/0)"
   ]
  },
  {
   "cell_type": "code",
   "execution_count": 12,
   "metadata": {},
   "outputs": [
    {
     "ename": "NameError",
     "evalue": "name 'hello' is not defined",
     "output_type": "error",
     "traceback": [
      "\u001b[0;31m---------------------------------------------------------------------------\u001b[0m",
      "\u001b[0;31mNameError\u001b[0m                                 Traceback (most recent call last)",
      "\u001b[0;32m<ipython-input-12-56e3c559a12e>\u001b[0m in \u001b[0;36m<module>\u001b[0;34m\u001b[0m\n\u001b[1;32m      1\u001b[0m \u001b[0;31m# 变量没有定义就去使用\u001b[0m\u001b[0;34m\u001b[0m\u001b[0;34m\u001b[0m\u001b[0;34m\u001b[0m\u001b[0m\n\u001b[0;32m----> 2\u001b[0;31m \u001b[0mprint\u001b[0m\u001b[0;34m(\u001b[0m\u001b[0mhello\u001b[0m \u001b[0;34m*\u001b[0m \u001b[0;36m4\u001b[0m\u001b[0;34m)\u001b[0m\u001b[0;34m\u001b[0m\u001b[0;34m\u001b[0m\u001b[0m\n\u001b[0m",
      "\u001b[0;31mNameError\u001b[0m: name 'hello' is not defined"
     ]
    }
   ],
   "source": [
    "# NameError，变量没有定义就去使用\n",
    "print(hello * 4)"
   ]
  },
  {
   "cell_type": "code",
   "execution_count": 13,
   "metadata": {},
   "outputs": [
    {
     "ename": "TypeError",
     "evalue": "can only concatenate str (not \"int\") to str",
     "output_type": "error",
     "traceback": [
      "\u001b[0;31m---------------------------------------------------------------------------\u001b[0m",
      "\u001b[0;31mTypeError\u001b[0m                                 Traceback (most recent call last)",
      "\u001b[0;32m<ipython-input-13-6a70d276dfaa>\u001b[0m in \u001b[0;36m<module>\u001b[0;34m\u001b[0m\n\u001b[1;32m      1\u001b[0m \u001b[0;31m# TypeError，不能含蓄将int转换成str\u001b[0m\u001b[0;34m\u001b[0m\u001b[0;34m\u001b[0m\u001b[0;34m\u001b[0m\u001b[0m\n\u001b[1;32m      2\u001b[0m \u001b[0mnum\u001b[0m \u001b[0;34m=\u001b[0m \u001b[0;36m6\u001b[0m\u001b[0;34m\u001b[0m\u001b[0;34m\u001b[0m\u001b[0m\n\u001b[0;32m----> 3\u001b[0;31m \u001b[0mprint\u001b[0m\u001b[0;34m(\u001b[0m\u001b[0;34m\"Hello World \"\u001b[0m \u001b[0;34m+\u001b[0m \u001b[0mnum\u001b[0m \u001b[0;34m)\u001b[0m\u001b[0;34m\u001b[0m\u001b[0;34m\u001b[0m\u001b[0m\n\u001b[0m",
      "\u001b[0;31mTypeError\u001b[0m: can only concatenate str (not \"int\") to str"
     ]
    }
   ],
   "source": [
    "# TypeError\n",
    "num = 6\n",
    "print(\"Hello World \" + num )"
   ]
  },
  {
   "cell_type": "markdown",
   "metadata": {},
   "source": [
    "### 处理异常\n",
    "使用try...except...处理异常  \n",
    "* try后面加可能出现问题的语句  \n",
    "* except后面加处理异常的方法，后面会提示究竟出现了什么错误。\n",
    "    * 如果错误except后面的错误类型，会找上一层的try语句\n",
    "    * 如果异常值没有处理/没有上一层try，将会提示unhandled exception"
   ]
  },
  {
   "cell_type": "code",
   "execution_count": 20,
   "metadata": {},
   "outputs": [
    {
     "name": "stdout",
     "output_type": "stream",
     "text": [
      "Please enter a number4\n"
     ]
    }
   ],
   "source": [
    "# 情景：为保证让用户输入数字，而不是输入字符串或者其他的东西\n",
    "while True:\n",
    "    try:\n",
    "        x = int(input(\"Please enter a number\"))\n",
    "        break\n",
    "    except ValueError:\n",
    "        print(\"Not valid input, try again...\")"
   ]
  },
  {
   "cell_type": "code",
   "execution_count": 30,
   "metadata": {},
   "outputs": [
    {
     "name": "stdout",
     "output_type": "stream",
     "text": [
      "123456\n"
     ]
    }
   ],
   "source": [
    "# 情景：读取一行数据，并且将所读取的数据去掉空格，转化成数字\n",
    "# 错误一：没有该文件\n",
    "# 错误二：不能将所输入文本转化成为整型\n",
    "try:\n",
    "    f = open('myfile.txt')\n",
    "    s = f.readline()\n",
    "    i = int(s.strip()) # 去掉开头和结尾的指定字符（默认值为：空格、换行符）、字符序列，如：‘12‘，则开头和结尾的12和21组合都会被去掉\n",
    "    print(i)\n",
    "except OSError as err:\n",
    "    print(\"OS error:{0}\".format(err))\n",
    "except ValueError:\n",
    "    print(\"Could not convert data to an integer.\")"
   ]
  },
  {
   "cell_type": "markdown",
   "metadata": {},
   "source": [
    "## 面向对象和装饰器"
   ]
  },
  {
   "cell_type": "markdown",
   "metadata": {},
   "source": [
    "### a) 面向对象OO\n",
    "类(class)：现实世界中一些事物的封装 （如：学生）  \n",
    "类：属性 （如：名字，成绩）  \n",
    "\n",
    "类对象  \n",
    "实例对象  \n",
    "\n",
    "引用：通过引用对类的属性和方法进行操作  \n",
    "实例化：创建一个类的具体实例对象 （如：学生张三）"
   ]
  },
  {
   "cell_type": "code",
   "execution_count": 38,
   "metadata": {},
   "outputs": [
    {
     "name": "stdout",
     "output_type": "stream",
     "text": [
      "hi! I'm jim\n",
      "my grade is: 86\n",
      "hi! I'm jim\n",
      "my grade is: 96\n"
     ]
    }
   ],
   "source": [
    "# 定义Student类\n",
    "class Student:\n",
    "    def __init__(self, name, grade):\n",
    "        # 实例属性与参数相对应\n",
    "        self.name = name\n",
    "        self.grade = grade\n",
    "        \n",
    "    def introduce(self):\n",
    "        print(\"hi! I'm \" + self.name)\n",
    "        print(\"my grade is: \" + str(self.grade))\n",
    "        \n",
    "    def improve(self, amount):\n",
    "        self.grade = self.grade + amount\n",
    "\n",
    "# 实例化一个Student，Jim具备Student所具备的所有权益：基本情况录入，自我介绍，提分\n",
    "jim = Student(\"jim\", 86)\n",
    "jim.introduce()\n",
    "\n",
    "jim.improve(10)\n",
    "jim.introduce()\n"
   ]
  },
  {
   "cell_type": "markdown",
   "metadata": {},
   "source": [
    "### b) 装饰器Decorators\n",
    "将一个函数的结果的返回值返回给另一个函数，即传入的参数是一个函数"
   ]
  },
  {
   "cell_type": "code",
   "execution_count": 37,
   "metadata": {},
   "outputs": [
    {
     "name": "stdout",
     "output_type": "stream",
     "text": [
      "cake\n",
      "cake candles\n"
     ]
    }
   ],
   "source": [
    "def add_candles(cake_func):\n",
    "    def insert_candles():\n",
    "        return cake_func() + \" candles\"\n",
    "    return insert_candles\n",
    " \n",
    "def make_cake():\n",
    "    return \"cake\"\n",
    " \n",
    "gift_func = add_candles(make_cake)\n",
    " \n",
    "print(make_cake())\n",
    "print(gift_func())"
   ]
  },
  {
   "cell_type": "code",
   "execution_count": 2,
   "metadata": {},
   "outputs": [
    {
     "name": "stdout",
     "output_type": "stream",
     "text": [
      "cake candles\n"
     ]
    }
   ],
   "source": [
    "def add_candles(cake_func):\n",
    "    def insert_candles():\n",
    "        return cake_func() + \" candles\"\n",
    "    return insert_candles\n",
    " \n",
    "def make_cake():\n",
    "    return \"cake\"\n",
    " \n",
    "make_cake = add_candles(make_cake)\n",
    " \n",
    "print(make_cake())\n",
    "# print(gift_func())"
   ]
  },
  {
   "cell_type": "markdown",
   "metadata": {},
   "source": [
    "还是有些不太懂：  \n",
    "函数前加上了装饰器之后，将返回值传入了add_candles()的输入值，并且将add_candles()的返回值传回作为make_cake()的输出值/返回值"
   ]
  },
  {
   "cell_type": "code",
   "execution_count": 1,
   "metadata": {},
   "outputs": [
    {
     "name": "stdout",
     "output_type": "stream",
     "text": [
      "cake and candles\n"
     ]
    }
   ],
   "source": [
    "def add_candles(cake_func):\n",
    "    def insert_candles():\n",
    "        return cake_func() + \" and candles\"\n",
    "    return insert_candles\n",
    "\n",
    "@add_candles\n",
    "def make_cake():\n",
    "    return \"cake\"\n",
    " \n",
    "# make_cake = add_candles(make_cake)\n",
    " \n",
    "print(make_cake())\n",
    "# print(gift_func)"
   ]
  }
 ],
 "metadata": {
  "kernelspec": {
   "display_name": "Python 3",
   "language": "python",
   "name": "python3"
  },
  "language_info": {
   "codemirror_mode": {
    "name": "ipython",
    "version": 3
   },
   "file_extension": ".py",
   "mimetype": "text/x-python",
   "name": "python",
   "nbconvert_exporter": "python",
   "pygments_lexer": "ipython3",
   "version": "3.7.3"
  },
  "toc": {
   "base_numbering": 1,
   "nav_menu": {},
   "number_sections": true,
   "sideBar": true,
   "skip_h1_title": false,
   "title_cell": "Table of Contents",
   "title_sidebar": "Contents",
   "toc_cell": false,
   "toc_position": {
    "height": "calc(100% - 180px)",
    "left": "10px",
    "top": "150px",
    "width": "272px"
   },
   "toc_section_display": true,
   "toc_window_display": true
  }
 },
 "nbformat": 4,
 "nbformat_minor": 2
}
